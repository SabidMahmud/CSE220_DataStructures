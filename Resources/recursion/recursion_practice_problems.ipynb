{
  "nbformat": 4,
  "nbformat_minor": 0,
  "metadata": {
    "colab": {
      "provenance": []
    },
    "kernelspec": {
      "name": "python3",
      "display_name": "Python 3"
    },
    "language_info": {
      "name": "python"
    }
  },
  "cells": [
    {
      "cell_type": "markdown",
      "source": [
        "**Task 1**  \n",
        "Given a non-negative int n, return the sum of its digits recursively (no loops). Note that mod (%)\n",
        "by 10 yields the rightmost digit (126 % 10 is 6), while divide (/) by 10 removes the rightmost digit\n",
        "(126 / 10 is 12)."
      ],
      "metadata": {
        "id": "hmpYf5licmxe"
      }
    },
    {
      "cell_type": "code",
      "source": [
        "def recursive_sum(n):\n",
        "    if n == 0:\n",
        "        return 0\n",
        "    else:\n",
        "        return n % 10 + recursive_sum(n//10)\n",
        "\n",
        "print(recursive_sum(int(input())))"
      ],
      "metadata": {
        "colab": {
          "base_uri": "https://localhost:8080/"
        },
        "id": "A5Osi35kcpMG",
        "outputId": "1c1ecf83-3ac3-4edd-a2bb-5913378acef0"
      },
      "execution_count": 1,
      "outputs": [
        {
          "output_type": "stream",
          "name": "stdout",
          "text": [
            "1234\n",
            "10\n"
          ]
        }
      ]
    },
    {
      "cell_type": "markdown",
      "source": [
        "**Task 2**  \n",
        "We have bunnies standing in a line, numbered 1, 2, ... The odd bunnies (1, 3, ..) have the\n",
        "normal 2 ears. The even bunnies (2, 4, ..) we'll say have 3 ears, because they each have a\n",
        "raised foot. Recursively return the number of \"ears\" in the bunny line 1, 2, ... n (without loops or\n",
        "multiplication).\n",
        "Example:\n",
        "Input: bunnyEars2(0)\n",
        "Output: 0"
      ],
      "metadata": {
        "id": "xF44yupUd9Jh"
      }
    },
    {
      "cell_type": "code",
      "source": [
        "def bunnies_ears(n):\n",
        "    if n == 0:\n",
        "        return 0\n",
        "\n",
        "    if n %2 == 0:\n",
        "        return 3+bunnies_ears(n-1)\n",
        "    else:\n",
        "        return 2 + bunnies_ears(n-1)\n",
        "\n",
        "print(bunnies_ears(int(input())))"
      ],
      "metadata": {
        "colab": {
          "base_uri": "https://localhost:8080/"
        },
        "id": "d0UZ-QEwd9-s",
        "outputId": "52456749-a207-4cf2-9ed7-2803c6783caa"
      },
      "execution_count": 5,
      "outputs": [
        {
          "output_type": "stream",
          "name": "stdout",
          "text": [
            "2\n",
            "5\n"
          ]
        }
      ]
    },
    {
      "cell_type": "markdown",
      "source": [
        "**Task 3**  \n",
        "Given a non-negative int n, return the count of the occurrences of 7 as a digit, so for example\n",
        "717 yields 2. (no loops). Note that mod (%) by 10 yields the rightmost digit (126 % 10 is 6),\n",
        "while divide (/) by 10 removes the rightmost digit (126 / 10 is 12).\n",
        "Example:\n",
        "Input: count7(717)\n",
        "Output: 2"
      ],
      "metadata": {
        "id": "6zUQJwg2e2eo"
      }
    },
    {
      "cell_type": "code",
      "source": [
        "def count(num):\n",
        "    if num == 0:\n",
        "        return 0\n",
        "\n",
        "    if num%10 == 7:\n",
        "        return 1+(count(num//10))\n",
        "    else: return count(num//10)\n",
        "\n",
        "print(count(int(input())))"
      ],
      "metadata": {
        "colab": {
          "base_uri": "https://localhost:8080/"
        },
        "id": "2xl-Cfs7e3OS",
        "outputId": "10474240-b61f-41e3-c3c0-6f26d7715fc5"
      },
      "execution_count": 8,
      "outputs": [
        {
          "output_type": "stream",
          "name": "stdout",
          "text": [
            "823748787877778\n",
            "7\n"
          ]
        }
      ]
    },
    {
      "cell_type": "markdown",
      "source": [
        "**Task 4**  \n",
        "Given a string, compute recursively (no loops) the number of lowercase 'x' chars in the string.  \n",
        "Example:  \n",
        "Input: countX(\"xxhixx\")  \n",
        "Output: 4"
      ],
      "metadata": {
        "id": "X3YNpSsFfycB"
      }
    },
    {
      "cell_type": "code",
      "source": [
        "def countx(st):\n",
        "    if len(st) == 0:\n",
        "        return 0\n",
        "\n",
        "    if st[0] == \"x\":\n",
        "        return 1 + countx(st[1:])\n",
        "    else: return countx(st[1:])\n",
        "\n",
        "print(countx(input()))"
      ],
      "metadata": {
        "colab": {
          "base_uri": "https://localhost:8080/"
        },
        "id": "hE3hWKdQf7py",
        "outputId": "a43e25a9-83ee-450f-cae5-08327d577cbb"
      },
      "execution_count": 9,
      "outputs": [
        {
          "output_type": "stream",
          "name": "stdout",
          "text": [
            "asxxfhx\n",
            "3\n"
          ]
        }
      ]
    },
    {
      "cell_type": "markdown",
      "source": [
        "**Task 5**  \n",
        "Given a string, compute recursively (no loops) a new string where all appearances of \"pi\" have\n",
        "been replaced by \"3.14\".  \n",
        "Example:  \n",
        "Input: changePi(\"xpix\")  \n",
        "output: \"x3.14x\""
      ],
      "metadata": {
        "id": "DCguctbghB13"
      }
    },
    {
      "cell_type": "code",
      "source": [
        "def changePi(st):\n",
        "    if len(st) == 0:\n",
        "        return ''\n",
        "    if len(st) == 1:\n",
        "        return st[0]\n",
        "    if st[0] + st[1] == 'pi':\n",
        "        return '3.14'+(changePi(st[2:]))\n",
        "    else:\n",
        "        return st[0]+changePi(st[1:])\n",
        "\n",
        "print(changePi(input()))"
      ],
      "metadata": {
        "colab": {
          "base_uri": "https://localhost:8080/"
        },
        "id": "VOtZGY6fg7IJ",
        "outputId": "44b12265-c780-4f3d-d9e1-e9757eacea35"
      },
      "execution_count": 21,
      "outputs": [
        {
          "output_type": "stream",
          "name": "stdout",
          "text": [
            "xpix\n",
            "x3.14x\n"
          ]
        }
      ]
    },
    {
      "cell_type": "markdown",
      "source": [
        "**Task 6**   \n",
        "Given an array of ints, compute recursively the number of times that the value 11 appears in the\n",
        "array. We'll use the convention of considering only the part of the array that begins at the given\n",
        "index. In this way, a recursive call can pass index+1 to move down the array. The initial call will\n",
        "pass in index as 0.  \n",
        "Example:  \n",
        "Input: array11([1, 2, 11], 0)  \n",
        "Output: 1"
      ],
      "metadata": {
        "id": "QBFyusL4kO05"
      }
    },
    {
      "cell_type": "code",
      "source": [
        "def array11(arr, idx):\n",
        "    if idx >= len(arr):\n",
        "        return 0\n",
        "\n",
        "    if arr[idx] == 11:\n",
        "        return 1 + array11(arr, idx+1)\n",
        "\n",
        "    else:\n",
        "        return array11(arr, idx+1)\n",
        "\n",
        "print(array11([1,2,11,3,11,5],0))"
      ],
      "metadata": {
        "colab": {
          "base_uri": "https://localhost:8080/"
        },
        "id": "l7KlhEkNkV8c",
        "outputId": "c62ac42d-9fd6-4cf3-8c0f-72ca539b4688"
      },
      "execution_count": 23,
      "outputs": [
        {
          "output_type": "stream",
          "name": "stdout",
          "text": [
            "2\n"
          ]
        }
      ]
    },
    {
      "cell_type": "markdown",
      "source": [
        "**Task 7**  \n",
        "Given a string, compute recursively a new string where identical chars that are adjacent in the original string are separated from each other by a \"*\".  \n",
        "\n",
        "Example:  \n",
        "Input: pairStar(\"hello\")  \n",
        "Output: \"hel*lo\""
      ],
      "metadata": {
        "id": "Cgyw01lDlLgU"
      }
    },
    {
      "cell_type": "code",
      "source": [
        "def pairStar(string):\n",
        "    # if len(string) == 0: return \"\"\n",
        "    if len(string) == 1:\n",
        "        return string[0]\n",
        "\n",
        "    if string[0] == string[1]:\n",
        "        return string[0] + '*' + pairStar(string[1:])\n",
        "    else:\n",
        "        return string[0] + pairStar(string[1:])\n",
        "\n",
        "print(pairStar(input()))"
      ],
      "metadata": {
        "colab": {
          "base_uri": "https://localhost:8080/"
        },
        "id": "-FZ7IrywleWC",
        "outputId": "e820013a-7027-4228-8258-6a754c159cb3"
      },
      "execution_count": 33,
      "outputs": [
        {
          "output_type": "stream",
          "name": "stdout",
          "text": [
            "committee\n",
            "com*mit*te*e\n"
          ]
        }
      ]
    },
    {
      "cell_type": "markdown",
      "source": [
        "**Task 8**  \n",
        "Count recursively the total number of \"abc\" and \"aba\" substrings that appear in the given string.  \n",
        "Example:  \n",
        "Input: countAbc(\"abc\")  \n",
        "Output: 1"
      ],
      "metadata": {
        "id": "X7ZwSzLkmvKZ"
      }
    },
    {
      "cell_type": "code",
      "source": [
        "def countAbc(string):\n",
        "    # pass\n",
        "    if len(string) < 3:\n",
        "        return 0\n",
        "\n",
        "    if string[0:3] == 'abc' or string[0:3] == 'aba':\n",
        "        return 1 + countAbc(string[3:])\n",
        "    else:\n",
        "        return 0 + countAbc(string[1:])\n",
        "\n",
        "print(countAbc(input()))"
      ],
      "metadata": {
        "colab": {
          "base_uri": "https://localhost:8080/"
        },
        "id": "9VNVRscBngSS",
        "outputId": "3237cb0c-8611-43e4-a2c5-b267b4dffd5a"
      },
      "execution_count": 38,
      "outputs": [
        {
          "output_type": "stream",
          "name": "stdout",
          "text": [
            "sdf\n",
            "0\n"
          ]
        }
      ]
    },
    {
      "cell_type": "markdown",
      "source": [
        "**Others**  \n",
        "Midterm Problem. `isAscending` or `isDescending` solve using recursive method\n"
      ],
      "metadata": {
        "id": "RbLdDYE8ppGf"
      }
    },
    {
      "cell_type": "code",
      "source": [
        "def isAscending(arr):\n",
        "    # pass\n",
        "    if len(arr) <= 1:\n",
        "        return True\n",
        "\n",
        "    if arr[0] > arr[1]:\n",
        "        return False\n",
        "    else:\n",
        "        return isAscending(arr[1:])\n",
        "\n",
        "\n",
        "arr = [range(10)]\n",
        "# arr = [8,9,10,11,12,11,15,20]\n",
        "if isAscending(arr):\n",
        "    print(\"Ascending\")\n",
        "else:\n",
        "    print(\"Not Ascending\")"
      ],
      "metadata": {
        "colab": {
          "base_uri": "https://localhost:8080/"
        },
        "id": "HYBGshP8p7CA",
        "outputId": "1a9ec39d-f0ae-4129-8e06-3111c1d643a9"
      },
      "execution_count": 51,
      "outputs": [
        {
          "output_type": "stream",
          "name": "stdout",
          "text": [
            "Ascending\n"
          ]
        }
      ]
    }
  ]
}